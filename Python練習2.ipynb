{
 "cells": [
  {
   "cell_type": "markdown",
   "metadata": {},
   "source": [
    "## クラスとインスタンス"
   ]
  },
  {
   "cell_type": "code",
   "execution_count": 1,
   "metadata": {},
   "outputs": [],
   "source": [
    "#　クラスの定義\n",
    "class Card():\n",
    "    \n",
    "    #　メソッドの定義\n",
    "    def hello(self):\n",
    "        print(\"こんにちは！\")"
   ]
  },
  {
   "cell_type": "code",
   "execution_count": 2,
   "metadata": {},
   "outputs": [],
   "source": [
    "#　インスタンスの生成\n",
    "c = Card()"
   ]
  },
  {
   "cell_type": "code",
   "execution_count": 3,
   "metadata": {},
   "outputs": [
    {
     "name": "stdout",
     "output_type": "stream",
     "text": [
      "こんにちは！\n"
     ]
    }
   ],
   "source": [
    "#　メソッドの呼び出し\n",
    "c.hello()"
   ]
  },
  {
   "cell_type": "code",
   "execution_count": 4,
   "metadata": {},
   "outputs": [],
   "source": [
    "#　別のインスタンスの生成\n",
    "c2 = Card()"
   ]
  },
  {
   "cell_type": "code",
   "execution_count": 5,
   "metadata": {},
   "outputs": [
    {
     "name": "stdout",
     "output_type": "stream",
     "text": [
      "こんにちは！\n"
     ]
    }
   ],
   "source": [
    "#　メソッドの呼び出し\n",
    "c2.hello()"
   ]
  },
  {
   "cell_type": "markdown",
   "metadata": {},
   "source": [
    "## インスタンス変数"
   ]
  },
  {
   "cell_type": "code",
   "execution_count": 8,
   "metadata": {},
   "outputs": [],
   "source": [
    "# クラスの定義\n",
    "class Card():\n",
    "    #初期化メソッド（initはインスタンス変数を生成するメソッド）\n",
    "    def __init__(self, name, age, store):\n",
    "        self.name = name\n",
    "        self.age = age\n",
    "        self.store = store"
   ]
  },
  {
   "cell_type": "code",
   "execution_count": 9,
   "metadata": {},
   "outputs": [],
   "source": [
    "#インスタンスの生成\n",
    "c = Card(\"笹岡\", 53, \"大塚店\")"
   ]
  },
  {
   "cell_type": "code",
   "execution_count": 10,
   "metadata": {},
   "outputs": [
    {
     "data": {
      "text/plain": [
       "'笹岡'"
      ]
     },
     "execution_count": 10,
     "metadata": {},
     "output_type": "execute_result"
    }
   ],
   "source": [
    "#　インスタンス変数(name)にアクセス\n",
    "c.name"
   ]
  },
  {
   "cell_type": "code",
   "execution_count": 13,
   "metadata": {},
   "outputs": [
    {
     "data": {
      "text/plain": [
       "'笹岡'"
      ]
     },
     "execution_count": 13,
     "metadata": {},
     "output_type": "execute_result"
    }
   ],
   "source": [
    "c.name"
   ]
  },
  {
   "cell_type": "markdown",
   "metadata": {},
   "source": [
    "## お客様カードをクラスで表現"
   ]
  },
  {
   "cell_type": "code",
   "execution_count": 14,
   "metadata": {},
   "outputs": [],
   "source": [
    " class Customer:\n",
    "    def __init__ (self, customer_name, age, gym_name):\n",
    "        \"\"\"\n",
    "        インスタンス変数を設定\n",
    "        \"\"\"\n",
    "        self.customer_name = customer_name\n",
    "        self.age = age\n",
    "        self.gym_name = gym_name\n",
    "        \n",
    "    def fee(self):\n",
    "        \"\"\"\n",
    "        年齢によって料金を計算する関数\n",
    "        \"\"\"\n",
    "        if self.age < 20:\n",
    "            fee = 3000\n",
    "        elif self.age >= 65:\n",
    "            fee = 5000\n",
    "        else:\n",
    "            fee = 10000\n",
    "        return fee"
   ]
  },
  {
   "cell_type": "code",
   "execution_count": 15,
   "metadata": {},
   "outputs": [],
   "source": [
    "#インスタンスの生成\n",
    "c1 = Customer(customer_name=\"笹岡\", age=53, gym_name=\"大塚店\")\n",
    "\n",
    "#インスタンスの生成\n",
    "c2 = Customer(customer_name=\"土橋\", age=67, gym_name=\"新宿店\")"
   ]
  },
  {
   "cell_type": "code",
   "execution_count": 16,
   "metadata": {},
   "outputs": [
    {
     "data": {
      "text/plain": [
       "'笹岡'"
      ]
     },
     "execution_count": 16,
     "metadata": {},
     "output_type": "execute_result"
    }
   ],
   "source": [
    "#　インスタンス変数の表示\n",
    "c1.customer_name"
   ]
  },
  {
   "cell_type": "code",
   "execution_count": 17,
   "metadata": {},
   "outputs": [
    {
     "data": {
      "text/plain": [
       "10000"
      ]
     },
     "execution_count": 17,
     "metadata": {},
     "output_type": "execute_result"
    }
   ],
   "source": [
    "#メソッドの呼び出し\n",
    "c1.fee()"
   ]
  },
  {
   "cell_type": "code",
   "execution_count": 18,
   "metadata": {},
   "outputs": [
    {
     "name": "stdout",
     "output_type": "stream",
     "text": [
      "笹岡\n"
     ]
    },
    {
     "data": {
      "text/plain": [
       "5000"
      ]
     },
     "execution_count": 18,
     "metadata": {},
     "output_type": "execute_result"
    }
   ],
   "source": [
    "#インスタンス変数の表示\n",
    "print(c1.customer_name)\n",
    "\n",
    "#メソッドの呼び出し\n",
    "c2.fee()"
   ]
  },
  {
   "cell_type": "markdown",
   "metadata": {},
   "source": [
    "## 別の設定\n",
    "個人の名前と点数を変数とし、点数に応じて成績を出力"
   ]
  },
  {
   "cell_type": "code",
   "execution_count": 48,
   "metadata": {},
   "outputs": [],
   "source": [
    "class Student:\n",
    "    def __init__ (self, name, score):\n",
    "        \"\"\"\n",
    "        インスタンス変数を設定\n",
    "        \"\"\"\n",
    "        self.name = name\n",
    "        self.score = score\n",
    "        \n",
    "    def grade(self):\n",
    "        \"\"\"\n",
    "        点数によって成績を計算する関数\n",
    "        \"\"\"\n",
    "        if self.score < 50:\n",
    "            grade = \"不可\"\n",
    "        elif (self.score >= 50) and (self.score < 65):\n",
    "            grade = \"可\"\n",
    "        elif (self.score >= 65) and (self.score < 80):\n",
    "            grade = \"良\"\n",
    "        else :\n",
    "            grade = \"優\"\n",
    "        return grade"
   ]
  },
  {
   "cell_type": "code",
   "execution_count": 49,
   "metadata": {},
   "outputs": [],
   "source": [
    "#インスタンスの生成\n",
    "s1 = Student(name=\"山崎\", score=73)"
   ]
  },
  {
   "cell_type": "code",
   "execution_count": 50,
   "metadata": {},
   "outputs": [
    {
     "name": "stdout",
     "output_type": "stream",
     "text": [
      "山崎\n",
      "良\n"
     ]
    }
   ],
   "source": [
    "#インスタンス変数の表示\n",
    "print(s1.name)\n",
    "#メソッドの呼び出し\n",
    "print(s1.grade())"
   ]
  },
  {
   "cell_type": "markdown",
   "metadata": {},
   "source": [
    "## 別の設定"
   ]
  },
  {
   "cell_type": "code",
   "execution_count": 55,
   "metadata": {},
   "outputs": [],
   "source": [
    "# クラスの定義\n",
    "class Character:\n",
    "    def __init__ (self, name, maxhp, attack_point):\n",
    "        self.name = name\n",
    "        self.maxhp = maxhp\n",
    "        self.hp = maxhp\n",
    "        self.attack_point = attack_point\n",
    "        \n",
    "    def status(self):\n",
    "        return \"%s :体力%d/%d :攻撃力%d \"%(self.name, self.hp, self.maxhp, self.attack_point) #数字に対しては%dをつけ、文字列に対しては%sをつける\n",
    "    \n",
    "    def attack(self, enemy):\n",
    "        enemy.hp -= self.attack_point\n",
    "        print(\"%sの攻撃！%sに%dのダメージ！\"%(self.name, enemy.name, self.attack_point)) "
   ]
  },
  {
   "cell_type": "code",
   "execution_count": 57,
   "metadata": {},
   "outputs": [
    {
     "name": "stdout",
     "output_type": "stream",
     "text": [
      "----------------------------------------------\n",
      "勇者 :体力60/60 :攻撃力10 \n",
      "スライム :体力15/15 :攻撃力5 \n"
     ]
    }
   ],
   "source": [
    "#インスタンスを初期化\n",
    "yusha = Character(\"勇者\", 60, 10)\n",
    "slime = Character(\"スライム\", 15, 5)\n",
    "\n",
    "#ステータスを表示\n",
    "print(\"----------------------------------------------\")\n",
    "print(yusha.status()) #勇者のステータス\n",
    "print(slime.status()) #スライムのステータス\n"
   ]
  },
  {
   "cell_type": "code",
   "execution_count": 58,
   "metadata": {},
   "outputs": [
    {
     "name": "stdout",
     "output_type": "stream",
     "text": [
      "勇者の攻撃！スライムに10のダメージ！\n"
     ]
    }
   ],
   "source": [
    "# 勇者の攻撃\n",
    "yusha.attack(slime)"
   ]
  },
  {
   "cell_type": "code",
   "execution_count": 59,
   "metadata": {},
   "outputs": [
    {
     "data": {
      "text/plain": [
       "'スライム :体力5/15 :攻撃力5 '"
      ]
     },
     "execution_count": 59,
     "metadata": {},
     "output_type": "execute_result"
    }
   ],
   "source": [
    "slime.status()"
   ]
  },
  {
   "cell_type": "code",
   "execution_count": 64,
   "metadata": {},
   "outputs": [
    {
     "name": "stdout",
     "output_type": "stream",
     "text": [
      "勇者の攻撃！スライムに10のダメージ！\n"
     ]
    },
    {
     "data": {
      "text/plain": [
       "'スライム :体力-45/15 :攻撃力5 '"
      ]
     },
     "execution_count": 64,
     "metadata": {},
     "output_type": "execute_result"
    }
   ],
   "source": [
    "yusha.attack(slime)\n",
    "slime.status()"
   ]
  },
  {
   "cell_type": "code",
   "execution_count": 73,
   "metadata": {},
   "outputs": [],
   "source": [
    "class My_character:\n",
    "    \"\"\"\n",
    "    インスタンス変数の定義\n",
    "    \"\"\"\n",
    "    def __init__ (self, name, max_hp, attack_point):\n",
    "        self.name = name\n",
    "        self.max_hp = max_hp\n",
    "        self.hp = max_hp\n",
    "        self.attack_point = attack_point\n",
    "    \n",
    "    \"\"\"\n",
    "    メソッドその1(ステータスの表示)\n",
    "    \"\"\"\n",
    "    def status(self):\n",
    "        print(\"%s 体力:%d/%d 攻撃力:%d\"%(self.name, self.hp, self.max_hp, self.attack_point))\n",
    "    \n",
    "    \"\"\"\n",
    "    メソッドその2（攻撃）\n",
    "    \"\"\"\n",
    "    def attack(self, enemy):\n",
    "        enemy.hp -=self.attack_point\n",
    "        print(\"%sの攻撃！%sに%dの攻撃\"%(self.name, enemy.name, self.attack_point))"
   ]
  },
  {
   "cell_type": "code",
   "execution_count": 75,
   "metadata": {},
   "outputs": [],
   "source": [
    "#インスタンスの初期化\n",
    "yusha = My_character(\"勇者\", 100, 10)\n",
    "slime = My_character(\"スライム\", 50, 5)"
   ]
  },
  {
   "cell_type": "code",
   "execution_count": 76,
   "metadata": {},
   "outputs": [
    {
     "name": "stdout",
     "output_type": "stream",
     "text": [
      "勇者 体力:100/100 攻撃力:10\n"
     ]
    }
   ],
   "source": [
    "yusha.status()"
   ]
  },
  {
   "cell_type": "code",
   "execution_count": 78,
   "metadata": {},
   "outputs": [
    {
     "name": "stdout",
     "output_type": "stream",
     "text": [
      "勇者の攻撃！スライムに10の攻撃\n"
     ]
    }
   ],
   "source": [
    "yusha.attack(slime)"
   ]
  },
  {
   "cell_type": "code",
   "execution_count": 80,
   "metadata": {},
   "outputs": [
    {
     "name": "stdout",
     "output_type": "stream",
     "text": [
      "スライム 体力:40/50 攻撃力:5\n"
     ]
    }
   ],
   "source": [
    "slime.status()"
   ]
  },
  {
   "cell_type": "code",
   "execution_count": 81,
   "metadata": {},
   "outputs": [
    {
     "name": "stdout",
     "output_type": "stream",
     "text": [
      "スライムの攻撃！勇者に5の攻撃\n"
     ]
    }
   ],
   "source": [
    "slime.attack(yusha)"
   ]
  },
  {
   "cell_type": "code",
   "execution_count": 83,
   "metadata": {},
   "outputs": [
    {
     "name": "stdout",
     "output_type": "stream",
     "text": [
      "勇者 体力:95/100 攻撃力:10\n"
     ]
    }
   ],
   "source": [
    "yusha.status()"
   ]
  },
  {
   "cell_type": "markdown",
   "metadata": {},
   "source": [
    "## 同じことを関数のみを使って行う"
   ]
  },
  {
   "cell_type": "code",
   "execution_count": 85,
   "metadata": {},
   "outputs": [],
   "source": [
    "def status(name, maxhp, hp, attack_point):\n",
    "    # ステータスの文字列を返す\n",
    "    return \"%s: 体力%d/%d :攻撃力%d\" %(name, hp, maxhp, attack_point)\n",
    "\n",
    "def attack(name, attack_point, enemy_name, enemy_hp):\n",
    "    enemy_hp -= attack_point\n",
    "    #　システムメッセージを出力\n",
    "    print(\"%sの攻撃！%sに%dのダメージ！\" %(name, enemy_name, attack_point))\n",
    "    return enemy_hp"
   ]
  },
  {
   "cell_type": "markdown",
   "metadata": {},
   "source": [
    "## クラスの例"
   ]
  },
  {
   "cell_type": "code",
   "execution_count": 96,
   "metadata": {},
   "outputs": [],
   "source": [
    "class My_game:\n",
    "    \"\"\"\n",
    "    インスタンス変数の設定\n",
    "    \"\"\"\n",
    "    def __init__ (self, name, hp, attack_point):\n",
    "        self.name = name\n",
    "        self.hp = hp\n",
    "        self.max_hp = hp\n",
    "        self.attack_point = attack_point\n",
    "    \n",
    "    \"\"\"\n",
    "    ステータスを表示するメソッド\n",
    "    \"\"\"\n",
    "    def status(self):\n",
    "        print(\"%s: 体力%d/%d: 攻撃力%d\"%(self.name, self.hp, self.max_hp, self.attack_point))\n",
    "    \n",
    "    \"\"\"\n",
    "    攻撃を行うメソッド\n",
    "    \"\"\"\n",
    "    def attack(self, enemy):\n",
    "        enemy.hp -= self.attack_point\n",
    "        print(\"%sの攻撃！%sに%dのダメージ\"%(self.name, enemy.name, self.attack_point))"
   ]
  },
  {
   "cell_type": "code",
   "execution_count": 97,
   "metadata": {},
   "outputs": [],
   "source": [
    "#インスタンスの初期化\n",
    "yusha = My_game(name=\"勇者\", hp=100, attack_point=10)\n",
    "slime = My_game(name=\"スライム\", hp=10, attack_point=5)"
   ]
  },
  {
   "cell_type": "code",
   "execution_count": 98,
   "metadata": {},
   "outputs": [
    {
     "name": "stdout",
     "output_type": "stream",
     "text": [
      "勇者: 体力100/100: 攻撃力10\n"
     ]
    }
   ],
   "source": [
    "#メインプログラム\n",
    "yusha.status()"
   ]
  },
  {
   "cell_type": "code",
   "execution_count": 99,
   "metadata": {},
   "outputs": [
    {
     "name": "stdout",
     "output_type": "stream",
     "text": [
      "勇者の攻撃！スライムに10のダメージ\n"
     ]
    }
   ],
   "source": [
    "yusha.attack(slime)"
   ]
  },
  {
   "cell_type": "code",
   "execution_count": 100,
   "metadata": {},
   "outputs": [
    {
     "name": "stdout",
     "output_type": "stream",
     "text": [
      "スライム: 体力0/10: 攻撃力5\n"
     ]
    }
   ],
   "source": [
    "slime.status()"
   ]
  },
  {
   "cell_type": "code",
   "execution_count": 101,
   "metadata": {},
   "outputs": [],
   "source": [
    "# calendarモジュールのインポート\n",
    "import calendar"
   ]
  },
  {
   "cell_type": "code",
   "execution_count": 104,
   "metadata": {},
   "outputs": [],
   "source": [
    "# インスタンスの生成\n",
    "cal2 = calendar.TextCalendar()"
   ]
  },
  {
   "cell_type": "code",
   "execution_count": 106,
   "metadata": {},
   "outputs": [
    {
     "name": "stdout",
     "output_type": "stream",
     "text": [
      "    January 2021\n",
      "Mo Tu We Th Fr Sa Su\n",
      "             1  2  3\n",
      " 4  5  6  7  8  9 10\n",
      "11 12 13 14 15 16 17\n",
      "18 19 20 21 22 23 24\n",
      "25 26 27 28 29 30 31\n"
     ]
    }
   ],
   "source": [
    "#メソッドの呼び出し\n",
    "cal2.prmonth(2021, 1)"
   ]
  },
  {
   "cell_type": "code",
   "execution_count": 109,
   "metadata": {},
   "outputs": [],
   "source": [
    "# calendarモジュールのTextCalendarクラスをインポート\n",
    "from calendar import TextCalendar"
   ]
  },
  {
   "cell_type": "code",
   "execution_count": 110,
   "metadata": {},
   "outputs": [],
   "source": [
    "# インスタンスの生成\n",
    "cal2 = TextCalendar()"
   ]
  },
  {
   "cell_type": "code",
   "execution_count": 111,
   "metadata": {},
   "outputs": [
    {
     "name": "stdout",
     "output_type": "stream",
     "text": [
      "      July 21\n",
      "Mo Tu We Th Fr Sa Su\n",
      "          1  2  3  4\n",
      " 5  6  7  8  9 10 11\n",
      "12 13 14 15 16 17 18\n",
      "19 20 21 22 23 24 25\n",
      "26 27 28 29 30 31\n"
     ]
    }
   ],
   "source": [
    "cal2.prmonth(21, 7)"
   ]
  },
  {
   "cell_type": "code",
   "execution_count": null,
   "metadata": {},
   "outputs": [],
   "source": []
  }
 ],
 "metadata": {
  "kernelspec": {
   "display_name": "Python 3",
   "language": "python",
   "name": "python3"
  },
  "language_info": {
   "codemirror_mode": {
    "name": "ipython",
    "version": 3
   },
   "file_extension": ".py",
   "mimetype": "text/x-python",
   "name": "python",
   "nbconvert_exporter": "python",
   "pygments_lexer": "ipython3",
   "version": "3.6.5"
  }
 },
 "nbformat": 4,
 "nbformat_minor": 2
}
