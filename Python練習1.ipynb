{
 "cells": [
  {
   "cell_type": "markdown",
   "metadata": {},
   "source": [
    "# 7.1 クラスとインスタンス"
   ]
  },
  {
   "cell_type": "code",
   "execution_count": 6,
   "metadata": {},
   "outputs": [],
   "source": [
    "# クラスの定義\n",
    "class Card():\n",
    "    \n",
    "    #初期化メソッド\n",
    "    def __init__(self, name, age, store):\n",
    "        self.name = name\n",
    "        self.age = age\n",
    "        self.store = store"
   ]
  },
  {
   "cell_type": "code",
   "execution_count": 7,
   "metadata": {},
   "outputs": [],
   "source": [
    "# インスタンスの生成\n",
    "c = Card(\"笹岡\", 53, \"大塚店\")"
   ]
  },
  {
   "cell_type": "code",
   "execution_count": 8,
   "metadata": {},
   "outputs": [
    {
     "data": {
      "text/plain": [
       "'笹岡'"
      ]
     },
     "execution_count": 8,
     "metadata": {},
     "output_type": "execute_result"
    }
   ],
   "source": [
    "# インスタンス変数(name)にアクセス\n",
    "c.name"
   ]
  },
  {
   "cell_type": "code",
   "execution_count": 9,
   "metadata": {},
   "outputs": [
    {
     "data": {
      "text/plain": [
       "__main__.Card"
      ]
     },
     "execution_count": 9,
     "metadata": {},
     "output_type": "execute_result"
    }
   ],
   "source": [
    "type(c)"
   ]
  },
  {
   "cell_type": "code",
   "execution_count": 10,
   "metadata": {},
   "outputs": [
    {
     "data": {
      "text/plain": [
       "53"
      ]
     },
     "execution_count": 10,
     "metadata": {},
     "output_type": "execute_result"
    }
   ],
   "source": [
    "#インスタンス変数(age)にアクセス\n",
    "c.age"
   ]
  },
  {
   "cell_type": "code",
   "execution_count": 20,
   "metadata": {},
   "outputs": [],
   "source": [
    "# クラスの定義\n",
    "class Card():\n",
    "    \n",
    "    #メソッドの定義\n",
    "    def hello(self):\n",
    "        print(\"こんにちは!\")"
   ]
  },
  {
   "cell_type": "code",
   "execution_count": 21,
   "metadata": {},
   "outputs": [],
   "source": [
    "c = Card()"
   ]
  },
  {
   "cell_type": "code",
   "execution_count": 22,
   "metadata": {},
   "outputs": [
    {
     "name": "stdout",
     "output_type": "stream",
     "text": [
      "こんにちは!\n"
     ]
    }
   ],
   "source": [
    "c.hello()"
   ]
  },
  {
   "cell_type": "code",
   "execution_count": 23,
   "metadata": {},
   "outputs": [],
   "source": [
    "# クラスの定義\n",
    "class Card():\n",
    "    \n",
    "    #メソッドの定義\n",
    "    def hello(self):\n",
    "        print(\"こんにちは！\")"
   ]
  },
  {
   "cell_type": "code",
   "execution_count": 24,
   "metadata": {},
   "outputs": [],
   "source": [
    "# インスタンスの生成\n",
    "c = Card()"
   ]
  },
  {
   "cell_type": "code",
   "execution_count": 25,
   "metadata": {},
   "outputs": [
    {
     "name": "stdout",
     "output_type": "stream",
     "text": [
      "こんにちは！\n"
     ]
    }
   ],
   "source": [
    "# メソッドの呼び出し\n",
    "c.hello()"
   ]
  },
  {
   "cell_type": "code",
   "execution_count": 38,
   "metadata": {},
   "outputs": [
    {
     "ename": "IndentationError",
     "evalue": "unindent does not match any outer indentation level (<ipython-input-38-add3c1faf4d3>, line 14)",
     "output_type": "error",
     "traceback": [
      "\u001b[0;36m  File \u001b[0;32m\"<ipython-input-38-add3c1faf4d3>\"\u001b[0;36m, line \u001b[0;32m14\u001b[0m\n\u001b[0;31m    if self.age < 20:\u001b[0m\n\u001b[0m                     ^\u001b[0m\n\u001b[0;31mIndentationError\u001b[0m\u001b[0;31m:\u001b[0m unindent does not match any outer indentation level\n"
     ]
    }
   ],
   "source": [
    "class Customer:\n",
    "    def __init__(self, customer_name, age, gym_name):\n",
    "        \"\"\"\n",
    "        インスタンス変数を設定\n",
    "        \"\"\"\n",
    "        self.customer_name = customer_name\n",
    "        self.age = age\n",
    "        self.gym_name = gym_name\n",
    "        \n",
    "    def fee(self):\n",
    "          \"\"\"\n",
    "           年齢によって料金を計算する関数\n",
    "           \"\"\"\n",
    "        if self.age < 20:\n",
    "               fee = 3000\n",
    "        elif self.age >= 65:\n",
    "               fee = 5000\n",
    "        else:\n",
    "               fee = 10000\n",
    "        return fee"
   ]
  },
  {
   "cell_type": "code",
   "execution_count": 34,
   "metadata": {},
   "outputs": [],
   "source": [
    "#インスタンスの生成\n",
    "c1 = Customer(customer_name=\"笹岡\", age=53, gym_name=\"大塚店\")\n",
    "\n",
    "#インスタンスの生成\n",
    "c2 = Customer(customer_name=\"土橋\", age=67, gym_name=\"新宿店\")"
   ]
  },
  {
   "cell_type": "code",
   "execution_count": 35,
   "metadata": {},
   "outputs": [
    {
     "name": "stdout",
     "output_type": "stream",
     "text": [
      "笹岡\n"
     ]
    }
   ],
   "source": [
    "# インスタンス変数の表示\n",
    "print(c1.customer_name)"
   ]
  },
  {
   "cell_type": "code",
   "execution_count": 36,
   "metadata": {},
   "outputs": [
    {
     "ename": "AttributeError",
     "evalue": "'Customer' object has no attribute 'fee'",
     "output_type": "error",
     "traceback": [
      "\u001b[0;31m---------------------------------------------------------------------------\u001b[0m",
      "\u001b[0;31mAttributeError\u001b[0m                            Traceback (most recent call last)",
      "\u001b[0;32m<ipython-input-36-7f435742eab9>\u001b[0m in \u001b[0;36m<module>\u001b[0;34m()\u001b[0m\n\u001b[0;32m----> 1\u001b[0;31m \u001b[0mc1\u001b[0m\u001b[0;34m.\u001b[0m\u001b[0mfee\u001b[0m\u001b[0;34m(\u001b[0m\u001b[0;34m)\u001b[0m\u001b[0;34m\u001b[0m\u001b[0m\n\u001b[0m",
      "\u001b[0;31mAttributeError\u001b[0m: 'Customer' object has no attribute 'fee'"
     ]
    }
   ],
   "source": [
    "c1.fee()"
   ]
  },
  {
   "cell_type": "code",
   "execution_count": 39,
   "metadata": {},
   "outputs": [],
   "source": [
    "class Customer:\n",
    "    def __init__(self, customer_name, age, gym_name):\n",
    "        #インスタンスを生成\n",
    "        self.customer_name = customer_name\n",
    "        self.age = age\n",
    "        self.gym = gym_name\n",
    "        \n",
    "    def fee(self):\n",
    "        if self.age < 20:\n",
    "            fee = 3000\n",
    "        elif self.age >= 65:\n",
    "            fee = 5000\n",
    "        else:\n",
    "            fee = 10000\n",
    "        return fee"
   ]
  },
  {
   "cell_type": "code",
   "execution_count": 40,
   "metadata": {},
   "outputs": [],
   "source": [
    "c1 = Customer(customer_name=\"山崎\", age=21, gym_name=\"駒場店\")"
   ]
  },
  {
   "cell_type": "code",
   "execution_count": 43,
   "metadata": {},
   "outputs": [
    {
     "data": {
      "text/plain": [
       "10000"
      ]
     },
     "execution_count": 43,
     "metadata": {},
     "output_type": "execute_result"
    }
   ],
   "source": [
    "c1.fee()"
   ]
  },
  {
   "cell_type": "code",
   "execution_count": 48,
   "metadata": {},
   "outputs": [
    {
     "data": {
      "text/plain": [
       "'9月1日の気温は30度です。'"
      ]
     },
     "execution_count": 48,
     "metadata": {},
     "output_type": "execute_result"
    }
   ],
   "source": [
    "#文字列を挿入\n",
    "month = 9\n",
    "day = 1\n",
    "temp = 30\n",
    "'{}月{}日の気温は{}度です。'.format(month, day, temp)"
   ]
  },
  {
   "cell_type": "code",
   "execution_count": 50,
   "metadata": {},
   "outputs": [
    {
     "data": {
      "text/plain": [
       "'9月1日の気温は30度です。'"
      ]
     },
     "execution_count": 50,
     "metadata": {},
     "output_type": "execute_result"
    }
   ],
   "source": [
    "#文字列を挿入\n",
    "month = 9\n",
    "day = 1\n",
    "temp = 30\n",
    "'%d月%d日の気温は%d度です。' %(month, day, temp)"
   ]
  },
  {
   "cell_type": "markdown",
   "metadata": {},
   "source": [
    "## なぜクラスを使うのか"
   ]
  },
  {
   "cell_type": "markdown",
   "metadata": {},
   "source": [
    "### 関数のみの場合"
   ]
  },
  {
   "cell_type": "markdown",
   "metadata": {},
   "source": [
    "#### 関数の定義"
   ]
  },
  {
   "cell_type": "code",
   "execution_count": 58,
   "metadata": {},
   "outputs": [],
   "source": [
    "def status(name, maxhp, hp, attak_point):\n",
    "    # ステータスの文字列を返す\n",
    "    return \"{}:体力 {}/{}: 攻撃力{}\".format(name, hp, maxhp, attak_point)\n",
    "\n",
    "def attack(name, attack_point, enemy_name, enemy_hp):\n",
    "    enemy_hp -=attack_point\n",
    "    #システムメッセージを出力\n",
    "    print(\"{}の攻撃！{}に{}のダメージ!\".format(name, enemy_name, attack_point))\n",
    "    return enemy_hp"
   ]
  },
  {
   "cell_type": "markdown",
   "metadata": {},
   "source": [
    "### メインプログラム"
   ]
  },
  {
   "cell_type": "code",
   "execution_count": 63,
   "metadata": {},
   "outputs": [
    {
     "name": "stdout",
     "output_type": "stream",
     "text": [
      "------------------------------------------------\n",
      "勇者:体力 60/60: 攻撃力10\n",
      "スライム:体力 15/15: 攻撃力5\n",
      "------------------------------------------------\n",
      "勇者の攻撃！スライムに10のダメージ!\n",
      "スライムの攻撃！勇者に5のダメージ!\n",
      "\n",
      "\n",
      "-------------------------------------------------\n",
      "勇者:体力 55/60: 攻撃力10\n",
      "スライム:体力 5/15: 攻撃力5\n"
     ]
    }
   ],
   "source": [
    "# 変数を初期化\n",
    "yusha_name = \"勇者\" #名前\n",
    "yusha_maxhp = 60 #体力の最大値\n",
    "yusha_hp = yusha_maxhp #体力の現在値\n",
    "yusha_attack = 10 #攻撃力\n",
    "\n",
    "# 同様に敵の変数を初期化\n",
    "slime_name = \"スライム\"\n",
    "slime_maxhp = 15\n",
    "slime_hp = slime_maxhp\n",
    "slime_attack = 5\n",
    "\n",
    "#ステータスを表示\n",
    "print(\"------------------------------------------------\")\n",
    "print(status(yusha_name, yusha_maxhp, yusha_hp, yusha_attack)) #勇者のステータス\n",
    "print(status(slime_name, slime_maxhp, slime_hp, slime_attack)) #スライムのステータス\n",
    "print(\"------------------------------------------------\")\n",
    "\n",
    "#勇者の攻撃\n",
    "slime_hp = attack(yusha_name, yusha_attack, slime_name, slime_hp)\n",
    "#スライムの攻撃\n",
    "yusha_hp = attack(slime_name, slime_attack, yusha_name, yusha_hp)\n",
    "\n",
    "# 空行を表示\n",
    "print(\"\")\n",
    "print(\"\")\n",
    "\n",
    "# ステータスを表示\n",
    "print(\"-------------------------------------------------\")\n",
    "print(status(yusha_name, yusha_maxhp, yusha_hp, yusha_attack)) #勇者のステータス\n",
    "print(status(slime_name, slime_maxhp, slime_hp, slime_attack)) #スライムのステータス"
   ]
  },
  {
   "cell_type": "markdown",
   "metadata": {},
   "source": [
    "### クラスを使った場合"
   ]
  },
  {
   "cell_type": "code",
   "execution_count": 64,
   "metadata": {},
   "outputs": [],
   "source": [
    "# クラスの定義\n",
    "class Character:\n",
    "    def __init__(self, name, maxhp, attack_point):\n",
    "        \"\"\"インスタンス変数を設定\n",
    "        \"\"\"\n",
    "        self.name = name\n",
    "        self.maxhp = maxhp\n",
    "        self.hp = maxhp\n",
    "        self.attack_point = attack_point\n",
    "    def status(self):\n",
    "        return \"{}: 体力{}/{}: 攻撃力{}: \".format(self.name, self.hp, self.maxhp, self.attack_point)\n",
    "    \n",
    "    def attack(self, enemy):\n",
    "        enemy.hp -= self.attack_point\n",
    "        print('{}の攻撃!{}に{}のダメージ!'.format(self.name, enemy.name, self.attack_point))"
   ]
  },
  {
   "cell_type": "markdown",
   "metadata": {},
   "source": [
    "### メインプログラム"
   ]
  },
  {
   "cell_type": "code",
   "execution_count": 67,
   "metadata": {},
   "outputs": [
    {
     "name": "stdout",
     "output_type": "stream",
     "text": [
      "-------------------------------------------------\n",
      "勇者: 体力60/60: 攻撃力10: \n",
      "スライム: 体力15/15: 攻撃力5: \n",
      "--------------------------------------------------\n",
      "勇者の攻撃!スライムに10のダメージ!\n",
      "スライムの攻撃!勇者に5のダメージ!\n"
     ]
    }
   ],
   "source": [
    "# インスタンスを初期化\n",
    "yusha = Character(\"勇者\", 60, 10)\n",
    "slime = Character('スライム', 15, 5)\n",
    "\n",
    "#ステータスを表示\n",
    "print(\"-------------------------------------------------\")\n",
    "print(yusha.status()) #勇者のステータス\n",
    "print(slime.status())\n",
    "print(\"--------------------------------------------------\")\n",
    "\n",
    "#勇者の攻撃\n",
    "yusha.attack(slime)\n",
    "#スライムの攻撃\n",
    "slime.attack(yusha)\n",
    "\n",
    "#空行を表示\n",
    "print(\"\")\n",
    "print(\"\")\n",
    "\n",
    "#ステータスを表示\n",
    "print(\"--------------------------------------------------\")\n",
    "print(yusha.status()) \n",
    "print(slime.status())\n",
    "o\n"
   ]
  },
  {
   "cell_type": "code",
   "execution_count": null,
   "metadata": {},
   "outputs": [],
   "source": []
  }
 ],
 "metadata": {
  "kernelspec": {
   "display_name": "Python 3",
   "language": "python",
   "name": "python3"
  },
  "language_info": {
   "codemirror_mode": {
    "name": "ipython",
    "version": 3
   },
   "file_extension": ".py",
   "mimetype": "text/x-python",
   "name": "python",
   "nbconvert_exporter": "python",
   "pygments_lexer": "ipython3",
   "version": "3.6.5"
  }
 },
 "nbformat": 4,
 "nbformat_minor": 2
}
